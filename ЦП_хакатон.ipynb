{
  "nbformat": 4,
  "nbformat_minor": 0,
  "metadata": {
    "colab": {
      "name": "ЦП хакатон.ipynb",
      "provenance": [],
      "collapsed_sections": [],
      "include_colab_link": true
    },
    "kernelspec": {
      "name": "python3",
      "display_name": "Python 3"
    },
    "language_info": {
      "name": "python"
    }
  },
  "cells": [
    {
      "cell_type": "markdown",
      "metadata": {
        "id": "view-in-github",
        "colab_type": "text"
      },
      "source": [
        "<a href=\"https://colab.research.google.com/github/IgorOlenchuk/hakaton_2022_kk/blob/main/%D0%A6%D0%9F_%D1%85%D0%B0%D0%BA%D0%B0%D1%82%D0%BE%D0%BD.ipynb\" target=\"_parent\"><img src=\"https://colab.research.google.com/assets/colab-badge.svg\" alt=\"Open In Colab\"/></a>"
      ]
    },
    {
      "cell_type": "code",
      "source": [
        "# Устанавливаем бибилиотеку Darts (https://unit8co.github.io/darts/README.html)\n",
        "pip install darts"
      ],
      "metadata": {
        "id": "jDo_brtLUwwE"
      },
      "execution_count": null,
      "outputs": []
    },
    {
      "cell_type": "code",
      "execution_count": null,
      "metadata": {
        "id": "KKlSSqfUbl0K"
      },
      "outputs": [],
      "source": [
        "# Импортируем необходимые бибилиотеки\n",
        "import pandas as pd\n",
        "\n",
        "from darts import TimeSeries\n",
        "from darts.models import ExponentialSmoothing, NaiveSeasonal\n",
        "\n",
        "# Утилиты\n",
        "from pathlib import Path\n",
        "from datetime import datetime\n",
        "import time\n",
        "from tqdm import tqdm"
      ]
    },
    {
      "cell_type": "code",
      "source": [
        "# Подключаем облачное хранилище\n",
        "from google.colab import drive\n",
        "drive.mount('/content/drive')"
      ],
      "metadata": {
        "colab": {
          "base_uri": "https://localhost:8080/"
        },
        "id": "SgVTR2d5b_OG",
        "outputId": "4fff4265-b710-4b75-d339-16f02baf1ef4"
      },
      "execution_count": null,
      "outputs": [
        {
          "output_type": "stream",
          "name": "stdout",
          "text": [
            "Mounted at /content/drive\n"
          ]
        }
      ]
    },
    {
      "cell_type": "code",
      "source": [
        "# Фукнция, которая проходит по файлам внутри указанной директории\n",
        "def do_work(directory):\n",
        "    pathlist = Path(directory).glob('*.xlsx')\n",
        "\n",
        "    for file in tqdm(pathlist):\n",
        "      print('Обрабатываем файл: {file}'.format(file=file))\n",
        "      file_time(file)\n",
        "\n",
        "# Функция создания, обучения и предсказания пропущенных данных\n",
        "def forcast(data, date, x, n):\n",
        "    series = TimeSeries.from_dataframe(data, date, x)\n",
        "    n = int(n)\n",
        "    train, test = series[:-n], series[-n:]\n",
        "    model = NaiveSeasonal(K=12)\n",
        "    model.fit(train)\n",
        "    forecast = model.predict(len(test))\n",
        "    print('В колонку {col} добавляем {n} значений'.format(col=x, n=n))\n",
        "    print(' '.join(forecast.pd_series().astype('str')))\n",
        "    return pd.concat([train.pd_series(), forecast.pd_series()], axis=0).values\n",
        "\n",
        "# Функция считывает указанный лист из файла и проходит по всем колонкам листа, передавай их на дальнейшую обработку\n",
        "def read_data(file, sheet):\n",
        "    format_datetime = lambda x: datetime.strptime(x, '%ym%m')\n",
        "\n",
        "    data = pd.read_excel(file, \n",
        "                        sheet_name=sheet, \n",
        "                        index_col=False, \n",
        "                        engine='openpyxl', \n",
        "                        parse_dates=[0], \n",
        "                        date_parser=format_datetime)\n",
        "\n",
        "    count_var = 0\n",
        "    count_forecast = 0\n",
        "    for col in data.columns:\n",
        "        count_forecast = data[data[col]=='Forecast'][col].count()\n",
        "        count_var = data[col].count()\n",
        "        print('В колонке {col} пропущено {count_forecast} значений из {count_var}'.format(col=col, \n",
        "                                                                                          count_forecast=count_forecast, \n",
        "                                                                                          count_var=count_var))\n",
        "        if count_forecast>0:\n",
        "          data[col] = data[col].replace(['Forecast'], 0)\n",
        "          data[col] = forcast(data, data.columns[0], col, count_forecast)\n",
        "    return data\n",
        "\n",
        "# Функция открывает указанный файл и проходит по всем листам. \n",
        "# После обработки данных, функция записывает результат в новый файл      \n",
        "def file_time(file):    \n",
        "    xls_file = pd.ExcelFile(file)\n",
        "    out_file = str(file).replace('input', 'output')\n",
        "    \n",
        "    for sheet in xls_file.sheet_names:\n",
        "        new_data = read_data(file, sheet)\n",
        "        new_data['Unnamed: 0'] = new_data['Unnamed: 0'].dt.strftime('%ym%m')\n",
        "        new_data.rename(columns = {'Unnamed: 0':''}, inplace = True)\n",
        "\n",
        "        if sheet == 'Monthly':\n",
        "            print('Добавляем лист Месяцы')            \n",
        "            writer = pd.ExcelWriter(out_file)\n",
        "            print('Сохраняем файл {f}'.format(f=out_file))\n",
        "            new_data.to_excel(writer, sheet_name=sheet, index=False)\n",
        "            writer.save()\n",
        "        elif sheet == 'Quarterly':\n",
        "            print('Добавляем лист Кварталы')\n",
        "            my_file = Path(out_file)\n",
        "            if my_file.is_file():\n",
        "              writer = pd.ExcelWriter(out_file, engine='openpyxl', mode='a')\n",
        "            else:\n",
        "              writer = pd.ExcelWriter(out_file)\n",
        "            \n",
        "            print('Сохраняем файл {f}'.format(f=out_file))\n",
        "            new_data.to_excel(writer, sheet_name=sheet, index=False)\n",
        "            writer.save()"
      ],
      "metadata": {
        "id": "Y1fRh0GHbIx9"
      },
      "execution_count": null,
      "outputs": []
    },
    {
      "cell_type": "code",
      "source": [
        "# Путь к исходным файлам\n",
        "directory = '/content/drive/MyDrive/Colab Notebooks/data/input'\n",
        "\n",
        "do_work(directory)"
      ],
      "metadata": {
        "id": "XRlQFno8eGvT"
      },
      "execution_count": null,
      "outputs": []
    },
    {
      "cell_type": "code",
      "source": [],
      "metadata": {
        "id": "dgDIICIuJ_JI"
      },
      "execution_count": null,
      "outputs": []
    }
  ]
}